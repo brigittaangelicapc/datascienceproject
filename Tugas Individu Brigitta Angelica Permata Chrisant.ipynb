{
 "cells": [
  {
   "cell_type": "markdown",
   "id": "2b8a85b9",
   "metadata": {},
   "source": [
    "# No. 1"
   ]
  },
  {
   "cell_type": "code",
   "execution_count": 1,
   "id": "9eaba993",
   "metadata": {},
   "outputs": [],
   "source": [
    "s = \"level\"\n",
    "temp = \"\""
   ]
  },
  {
   "cell_type": "code",
   "execution_count": 2,
   "id": "b249f878",
   "metadata": {},
   "outputs": [
    {
     "name": "stdout",
     "output_type": "stream",
     "text": [
      "Palindrom\n"
     ]
    }
   ],
   "source": [
    "for i in range(len(s)-1, -1, -1):\n",
    "    temp += s[i]\n",
    "print(end=\"\")\n",
    "\n",
    "if(s == temp):\n",
    "    print(\"Palindrom\")\n",
    "else:\n",
    "    print(\"Bukan Palindrom\")"
   ]
  },
  {
   "cell_type": "code",
   "execution_count": 3,
   "id": "ab7f045e",
   "metadata": {},
   "outputs": [],
   "source": [
    "s = \"bayam\"\n",
    "temp = \"\""
   ]
  },
  {
   "cell_type": "code",
   "execution_count": 4,
   "id": "260c02c1",
   "metadata": {},
   "outputs": [
    {
     "name": "stdout",
     "output_type": "stream",
     "text": [
      "Bukan Palindrom\n"
     ]
    }
   ],
   "source": [
    "for i in range(len(s)-1, -1, -1):\n",
    "    temp += s[i]\n",
    "print(end=\"\")\n",
    "\n",
    "if(s == temp):\n",
    "    print(\"Palindrom\")\n",
    "else:\n",
    "    print(\"Bukan Palindrom\")"
   ]
  },
  {
   "cell_type": "markdown",
   "id": "5e2f955d",
   "metadata": {},
   "source": [
    "# No.2"
   ]
  },
  {
   "cell_type": "code",
   "execution_count": 5,
   "id": "98837c80",
   "metadata": {},
   "outputs": [],
   "source": [
    "S1 = \"listen\"\n",
    "S2 = \"silent\""
   ]
  },
  {
   "cell_type": "code",
   "execution_count": 6,
   "id": "a25060cb",
   "metadata": {},
   "outputs": [
    {
     "name": "stdout",
     "output_type": "stream",
     "text": [
      "anagrams\n"
     ]
    }
   ],
   "source": [
    "if(len(S1) == len(S2)):\n",
    "    \n",
    "    sorted_S1 = sorted(S1)\n",
    "    sorted_S2 = sorted(S2)\n",
    "    \n",
    "    if(sorted_S1 == sorted_S2):\n",
    "        print(\"anagrams\")\n",
    "    else:\n",
    "        print(\"bukan anagrams\")\n",
    "        \n",
    "else:\n",
    "    print(\"bukan anagrams\")"
   ]
  },
  {
   "cell_type": "code",
   "execution_count": 7,
   "id": "0f188e43",
   "metadata": {},
   "outputs": [],
   "source": [
    "S1 = \"bad\"\n",
    "S2 = \"dad\""
   ]
  },
  {
   "cell_type": "code",
   "execution_count": 8,
   "id": "0dc40a0e",
   "metadata": {},
   "outputs": [
    {
     "name": "stdout",
     "output_type": "stream",
     "text": [
      "bukan anagrams\n"
     ]
    }
   ],
   "source": [
    "if(len(S1) == len(S2)):\n",
    "    \n",
    "    sorted_S1 = sorted(S1)\n",
    "    sorted_S2 = sorted(S2)\n",
    "    \n",
    "    if(sorted_S1 == sorted_S2):\n",
    "        print(\"anagrams\")\n",
    "    else:\n",
    "        print(\"bukan anagrams\")\n",
    "        \n",
    "else:\n",
    "    print(\"bukan anagrams\")"
   ]
  },
  {
   "cell_type": "markdown",
   "id": "9547323a",
   "metadata": {},
   "source": [
    "# No.3"
   ]
  },
  {
   "cell_type": "code",
   "execution_count": 3,
   "id": "fb3f4d03",
   "metadata": {},
   "outputs": [
    {
     "name": "stdout",
     "output_type": "stream",
     "text": [
      "Pair found (10, 2))\n",
      "Pair found (3, 9))\n"
     ]
    }
   ],
   "source": [
    "def findPair(nums: list[int], target: int) -> int:\n",
    "    pairs = []\n",
    "    for i in range(0, len(nums)):\n",
    "        for j in range(i+1, len(nums)):\n",
    "            if nums[i] + nums[j] == target:\n",
    "                print(f\"Pair found {nums[i],nums[j]})\")\n",
    "                pairs.append((nums[i], nums[j]))\n",
    "                \n",
    "    if pairs == []:\n",
    "        print(\"Pairs not found\")\n",
    "        \n",
    "findPair([10,2,6,3,9,4,5,0], 12)"
   ]
  },
  {
   "cell_type": "code",
   "execution_count": 4,
   "id": "30f6ba34",
   "metadata": {},
   "outputs": [
    {
     "name": "stdout",
     "output_type": "stream",
     "text": [
      "Pair found (6, 3))\n",
      "Pair found (9, 0))\n",
      "Pair found (4, 5))\n"
     ]
    }
   ],
   "source": [
    "def findPair(nums: list[int], target: int) -> int:\n",
    "    pairs = []\n",
    "    for i in range(0, len(nums)):\n",
    "        for j in range(i+1, len(nums)):\n",
    "            if nums[i] + nums[j] == target:\n",
    "                print(f\"Pair found {nums[i],nums[j]})\")\n",
    "                pairs.append((nums[i], nums[j]))\n",
    "                \n",
    "    if pairs == []:\n",
    "        print(\"Pairs not found\")\n",
    "        \n",
    "findPair([10,2,6,3,9,4,5,0], 9)"
   ]
  },
  {
   "cell_type": "code",
   "execution_count": 6,
   "id": "f91e28b5",
   "metadata": {},
   "outputs": [
    {
     "name": "stdout",
     "output_type": "stream",
     "text": [
      "Pairs not found\n"
     ]
    }
   ],
   "source": [
    "def findPair(nums: list[int], target: int) -> int:\n",
    "    pairs = []\n",
    "    for i in range(0, len(nums)):\n",
    "        for j in range(i+1, len(nums)):\n",
    "            if nums[i] + nums[j] == target:\n",
    "                print(f\"Pair found {nums[i],nums[j]})\")\n",
    "                pairs.append((nums[i], nums[j]))\n",
    "                \n",
    "    if pairs == []:\n",
    "        print(\"Pairs not found\")\n",
    "        \n",
    "findPair([10,2,6,3,9,4,5,0], 17)"
   ]
  }
 ],
 "metadata": {
  "kernelspec": {
   "display_name": "Python 3 (ipykernel)",
   "language": "python",
   "name": "python3"
  },
  "language_info": {
   "codemirror_mode": {
    "name": "ipython",
    "version": 3
   },
   "file_extension": ".py",
   "mimetype": "text/x-python",
   "name": "python",
   "nbconvert_exporter": "python",
   "pygments_lexer": "ipython3",
   "version": "3.9.7"
  }
 },
 "nbformat": 4,
 "nbformat_minor": 5
}
