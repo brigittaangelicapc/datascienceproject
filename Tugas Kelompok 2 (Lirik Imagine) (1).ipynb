{
 "cells": [
  {
   "cell_type": "markdown",
   "id": "db291efe",
   "metadata": {},
   "source": [
    "## Kelompok 2"
   ]
  },
  {
   "cell_type": "code",
   "execution_count": 1,
   "id": "6c39053a",
   "metadata": {},
   "outputs": [
    {
     "name": "stdout",
     "output_type": "stream",
     "text": [
      "1. Imagine no possessions\n",
      "4. A britherhood of man\n",
      "5. Imagine all the people\n",
      "6. Sharing all the world\n",
      "9. But I'm not the only one\n",
      "10. I hope someday you'll join us\n"
     ]
    }
   ],
   "source": [
    "imagine1 = open(\"berkas/imagine-1.txt\",\"r\")\n",
    "data = imagine1.read()\n",
    "print(data)"
   ]
  },
  {
   "cell_type": "code",
   "execution_count": 2,
   "id": "256416a4",
   "metadata": {},
   "outputs": [
    {
     "name": "stdout",
     "output_type": "stream",
     "text": [
      "2. I wonder if you can\n",
      "3. No need for greed or hunger\n",
      "7. You\n",
      "8. You may say I'm a dreamer\n",
      "11. And the world will live as one\n"
     ]
    }
   ],
   "source": [
    "imagine2 = open(\"berkas/imagine-2.txt\",\"r\")\n",
    "data = imagine2.read()\n",
    "print(data)"
   ]
  },
  {
   "cell_type": "code",
   "execution_count": 3,
   "id": "16fe96d9",
   "metadata": {},
   "outputs": [
    {
     "name": "stdout",
     "output_type": "stream",
     "text": [
      "1. Imagine no possessions\n",
      "2. I wonder if you can\n",
      "3. No need for greed or hunger\n",
      "4. A britherhood of man\n",
      "5. Imagine all the people\n",
      "6. Sharing all the world\n",
      "7. You\n",
      "8. You may say I'm a dreamer\n",
      "9. But I'm not the only one\n",
      "10. I hope someday you'll join us\n",
      "11. And the world will live as one\n",
      "\n"
     ]
    }
   ],
   "source": [
    "with open(\"berkas/imagine-1.txt\",\"r\") as foo, open(\"berkas/imagine-2.txt\",\"r\") as bar:\n",
    "    x = dict()\n",
    "    for line in foo:\n",
    "        y = line.split(\".\")\n",
    "        x[int(y[0])-1] = y[1].replace(\"\\n\", \"\")\n",
    "    for line in bar:\n",
    "        y = line.split(\".\")\n",
    "        x[int(y[0])-1] = y[1].replace(\"\\n\", \"\")\n",
    "with open(\"imagine.txt\", \"w\") as fiz:\n",
    "    for i in range(len(x)):\n",
    "        fiz.write(str(i + 1) + \".\" + x[i] + \"\\n\")\n",
    "with open(\"imagine.txt\", \"r\") as buzz:\n",
    "    p = buzz.read()\n",
    "    print(p)"
   ]
  },
  {
   "cell_type": "code",
   "execution_count": 4,
   "id": "8eb11bf2",
   "metadata": {},
   "outputs": [
    {
     "name": "stdout",
     "output_type": "stream",
     "text": [
      "one as live will world the And 11.\n",
      "us join you'll someday hope I 10.\n",
      "one only the not I'm But 9.\n",
      "dreamer a I'm say may You 8.\n",
      "You 7.\n",
      "world the all Sharing 6.\n",
      "people the all Imagine 5.\n",
      "man of britherhood A 4.\n",
      "hunger or greed for need No 3.\n",
      "can you if wonder I 2.\n",
      "possessions no Imagine 1.\n",
      "\n"
     ]
    }
   ],
   "source": [
    "with open(\"berkas/imagine-1.txt\",\"r\") as foo, open(\"berkas/imagine-2.txt\",\"r\") as bar:\n",
    "    x = dict()\n",
    "    for line in foo:\n",
    "        y = line.split(\".\")\n",
    "        z = \" \".join(y[1].split()[::-1])\n",
    "        x[int(y[0])-1] = z.replace(\"\\n\", \"\")\n",
    "    for line in bar:\n",
    "        y = line.split(\".\")\n",
    "        z = \" \".join(y[1].split()[::-1])\n",
    "        x[int(y[0])-1] = z.replace(\"\\n\", \"\")\n",
    "with open(\"Imagine-double-reversed.txt\", \"w\") as fiz:\n",
    "    for i in range(len(x) - 1, -1, -1):\n",
    "        fiz.write(x[i] + \" \" + str(i + 1) + \".\" +  \"\\n\")\n",
    "with open(\"Imagine-double-reversed.txt\", \"r\") as buzz:\n",
    "    p = buzz.read()\n",
    "    print(p)"
   ]
  },
  {
   "cell_type": "code",
   "execution_count": 5,
   "id": "fb31339c",
   "metadata": {},
   "outputs": [
    {
     "name": "stdout",
     "output_type": "stream",
     "text": [
      "1. Imagine no possessions\n",
      "2. I wonder if you can\n",
      "3. No need for greed or hunger\n",
      "4. A britherhood of man\n",
      "5. Imagine all the people\n",
      "6. Sharing all the world\n",
      "7. You\n",
      "8. You may say I'm a dreamer\n",
      "9. But I'm not the only one\n",
      "10. I hope someday you'll join us\n",
      "11. And the world will live as one\n",
      "\n"
     ]
    }
   ],
   "source": [
    "# membuka kedua file secara bersamaan\n",
    "with open(\"berkas/imagine-1.txt\",\"r\") as foo, open(\"berkas/imagine-2.txt\",\"r\") as bar:\n",
    "    # Membuat dictionary supaya memisahkan angka dengan tulissannya\n",
    "    # {1: \"text\", 2:\"other text\"}\n",
    "    # ini dapat menguntungkan karena bisa diurutkan dari keys-nya\n",
    "    x = dict()\n",
    "    # loop file foo/imagine-1.txt\n",
    "    for line in foo:\n",
    "        # Pisahkan dengan split(.) karena text ditulis dengan format \"1. text\"\n",
    "        y = line.split(\".\")\n",
    "        # nilai y => y = [\"1\", \" text\"]\n",
    "        # memasukkan niai kedalam dictionary x dengan mengubah angka menjadi int dengan value sebuah string\n",
    "        # angka int dikurang 1 supaya nilai diawali dari angka 0 dan proses loop nya gampang\n",
    "        # tidak lupa pula menghapus \\n atau syntax newline agar output nantinya tidak lompat-lompat\n",
    "        x[int(y[0])-1] = y[1].replace(\"\\n\", \"\")\n",
    "        # hasilnya => x[0] = \" text\"\n",
    "    # lakukan hal yang sama dengan file bar/imagine-2.txt\n",
    "    for line in bar:\n",
    "        y = line.split(\".\")\n",
    "        x[int(y[0])-1] = y[1].replace(\"\\n\", \"\")\n",
    " \n",
    "# buat file baru dengan with dan metode w/write\n",
    "with open(\"imagine.txt\", \"w\") as fiz:\n",
    "    # loop dictionary x sampai akhir\n",
    "    for i in range(len(x)):\n",
    "        # nilai i adalah key yang berjenis int, sehingga tambah nilai 1 dahulu agar dimulai dari angka 1, lalu ubah jadi string\n",
    "        # nilai string bisa diambil dari dictionary x dengan syntax x[i]\n",
    "        fiz.write(str(i + 1) + \".\" + x[i] + \"\\n\")\n",
    " \n",
    "# print hasilnya\n",
    "with open(\"imagine.txt\", \"r\") as buzz:\n",
    "    p = buzz.read()\n",
    "    print(p)"
   ]
  },
  {
   "cell_type": "code",
   "execution_count": 6,
   "id": "cc46e935",
   "metadata": {},
   "outputs": [
    {
     "name": "stdout",
     "output_type": "stream",
     "text": [
      "one as live will world the And 11.\n",
      "us join you'll someday hope I 10.\n",
      "one only the not I'm But 9.\n",
      "dreamer a I'm say may You 8.\n",
      "You 7.\n",
      "world the all Sharing 6.\n",
      "people the all Imagine 5.\n",
      "man of britherhood A 4.\n",
      "hunger or greed for need No 3.\n",
      "can you if wonder I 2.\n",
      "possessions no Imagine 1.\n",
      "\n"
     ]
    }
   ],
   "source": [
    "# buka kedua file sekaligus seperti sebelumnya.\n",
    "with open(\"berkas/imagine-1.txt\",\"r\") as foo, open(\"berkas/imagine-2.txt\",\"r\") as bar:\n",
    "    # konsep penggunaan dictionary seperti sebelumnya, agar memudahkan pengurutan dengan loop nantinya\n",
    "    x = dict()\n",
    "    # loop line dari foo\n",
    "    for line in foo:\n",
    "        # pisahkan angka dan string \n",
    "        y = line.split(\".\")\n",
    "        # untuk membalikkan string per katanya, split katanya dengan spasi\n",
    "        # hasilnya [\"Imagine\", \"no\", \"posession\"]\n",
    "        # lalu kita putar list nya dengan [::-1]\n",
    "        # hasilnya [\"posession\", \"no\", \"Imagine\"]\n",
    "        # lalu kita join hasilnya denga spasi untuk pemisahnya\n",
    "        # hasilnya \"posession no Imagine\"\n",
    "        z = \" \".join(y[1].split()[::-1])\n",
    "        # lalu kita masukkan ke dictionary x seperti sebelumnya\n",
    "        x[int(y[0])-1] = z.replace(\"\\n\", \"\")\n",
    "    # lakukan hal yang sama dengan file bar\n",
    "    for line in bar:\n",
    "        y = line.split(\".\")\n",
    "        z = \" \".join(y[1].split()[::-1])\n",
    "        # print(z)\n",
    "        x[int(y[0])-1] = z.replace(\"\\n\", \"\")\n",
    " \n",
    "# untuk penggabungan ke file baru, gunakan w untuk jenis filenya\n",
    "with open(\"Imagine-double-reversed.txt\", \"w\") as fiz:\n",
    "    # karena harus diputar dari 11 ke 1, atau dalam kontek dictionary dari 10 ke 0, maka harus loop reverse.\n",
    "    # maka panjangnya harus len(x) - 1 untuk nilai 10\n",
    "    # -1 kedua untuk range akhirnya yang exklusif yakni sampai 0\n",
    "    # -1 terakhir untuk langkah diambil, yakni dukurangi -1 tiap loop\n",
    "    for i in range(len(x) - 1, -1, -1):\n",
    "        # format \"posession no Imagine 1.\"\n",
    "        # maka print string dahulu, lalu masukkan nilai int + 1\n",
    "        fiz.write(x[i] + \" \" + str(i + 1) + \".\" +  \"\\n\")\n",
    " \n",
    "# print hasilnya\n",
    "with open(\"Imagine-double-reversed.txt\", \"r\") as buzz:\n",
    "    p = buzz.read()\n",
    "    print(p)"
   ]
  },
  {
   "cell_type": "code",
   "execution_count": null,
   "id": "7415cad1",
   "metadata": {},
   "outputs": [],
   "source": []
  }
 ],
 "metadata": {
  "kernelspec": {
   "display_name": "Python 3 (ipykernel)",
   "language": "python",
   "name": "python3"
  },
  "language_info": {
   "codemirror_mode": {
    "name": "ipython",
    "version": 3
   },
   "file_extension": ".py",
   "mimetype": "text/x-python",
   "name": "python",
   "nbconvert_exporter": "python",
   "pygments_lexer": "ipython3",
   "version": "3.9.7"
  }
 },
 "nbformat": 4,
 "nbformat_minor": 5
}
